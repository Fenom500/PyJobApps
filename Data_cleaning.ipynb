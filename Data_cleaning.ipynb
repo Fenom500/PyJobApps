{
 "cells": [
  {
   "cell_type": "code",
   "execution_count": 64,
   "metadata": {
    "collapsed": true,
    "pycharm": {
     "is_executing": false
    }
   },
   "outputs": [
    {
     "name": "stdout",
     "text": [
      "('Python Automation', 'Hayward', 'Python Automation Tester', ' PeopleNTech LLC ', \"\\nRole: Python Automation TesterDuration: 12 monthsLocation: Sanjose, CAMinimum requirements:• Master's degree in Computer Science or related field with preferably 3-5 years of distributed software development or testing experience.o GIT, Bitbucket, MongoDB, Shell Scripting. • Strong Python programming skills with 1-3 Years of hands on experience in automating API (Rest API) & GUI (using Selenium – know shadow DOM) o Submit Intermediate Python assessment of the candidate along with Resume. • Familiarity with Windows Server OS/Linux/VMWare fundamentals.o Strong skills in debugging and troubleshooting in Linux environments in physical server and virtual machines. • Familiarity in Server networking and storage knowledge. o Experience in setup and configuration of datacenter hardware such as Blade Server, Chassis, adaptors, Ethernet switch such as Cisco Nexus 9k, and FC switch. Knowledgeable in Troubleshooting issues in the environment. Testing experience in Server platforms, storage controllers considered a plus. Roles and responsibility:• Contribute to dev-test activities of a Cloud based Management Software, including test scoping, planning, execution, test automation, coordinating with other departments. Identify defects in product, debug and work with developers towards resolution.• Be part of agile scrum team, attend scrum meetings, provide updates. Prepare and present your work with all stakeholders as part of Sprint Demo. • Influence the feature development and Improving product quality and customer experience.• Automate test plans using python. Use existing Test framework. Use GIT on daily basis. • Setup UCS infrastructure (FI, Server (Blade and Rack), Install operating system, Configure test environments as needed to validate feature. Desired Skills• Understanding of Microservice architecture, AWS experience. • Hands on experience on network management software / UCS Cloud based application testing will be a plus.Desired Soft Skills• Creative problem-solving skills and excellent troubleshooting/debugging skills. Think automation first. Passion for coding and can-do attitude towards any complex tasks.• Excellent team player with strong work ethics and culture.• Excellent Analytical & communication skillsAble to multitask and handle competing priority tasks\\n\")\n",
      "('Python Automation', 'Hayward', 'LTE Python Automation Engineers', ' Centraprise ', '\\nLTE Python Automation Engineers/ Telematics wireless engineerMountain View, CA12+ Months ContractJob Description:minimum requirement :3GPP, 3G, LTE, CA experiencePTCRB/GCF certificationCarrier Certification steps and activities Comfortable with network simulator CMW-500 to design performance and functional test casesc++ or pythonAutomation scriptingBasic understanding of wifi and BLEPreferred requirement : OS/scheduler understandingkernel/user space understandingMS in computer science Elaborated in detail day to day activityAutomation skill (weighted 60+%) :Expert in wireless Lab automation : can automated network simulators and different lab equipmentexpert in developing test framework and test scriptGood in python, Java and quick to learn other scripting languageWireless Skill (weighted 20%):Exposure in at least one of the radio LTE, WIFI, and BLELog Analysis : Field log analysis, good in detailed debugging with end to end test scenarios.Tools exposure : QXDM or any modem log analysis tool, Network simulators, Wireshark Testing Skill (weighted 20%):understand Testing cycles : Lab testing, understand testing phases and release cycleLog Analysis : Field log analysis, debugging \\n')\n",
      "('Python Automation', 'Hayward', 'Python Automation Engineer with Network storage experience', ' enexusglobal ', \"\\nMinimum Requirements 3+ years of experience in automation development with any scripting language (Python, PHP, Ruby, Perl) Or relevant experience with compiled programming languages such as Java, C / C# / C++, Go, Pascal 3+ years of experience with CI/CD process using Jenkins/Docker & code management tools (GIT, SVN) Fluent knowledge of UNIX CLI, writing bash-scripts for automation & continuous integration/development Experience in RDBMS is a plus (MySQL, MSSQL, PostgreSQL or similar), but not required Experience with JavaScript, AJAX, HTML5, CSS is a plus, but not required Experience with automate tests and harness results Knowing DB Design Principles, Design Patters, Caching, Unit-testing, SOLID, PSR, noSQL is a plus Excellent communication skills and a proven ability to balance competing high priority tasks Strong team player with the ability to work collaboratively with others, and have fun! Independent, Accountable, Strong sense of ownership, Assertive, Communicative, Accountable, Sense of urgency, and Flexible and adaptable. BS CS/EE degree is required. MS CS/EE is preferred. Who You'll Work With You will be part of a fast paced team, open communications, empowerment, innovation, teamwork and customer success are the foundations of the team. Thus, you set your own limits for learning and achievements. You will be part of an experienced team working on a next generation data center and Visualization products. Work involves providing crucial feedback to hardware and software teams for improvements. \\n\")\n",
      "('Python Automation', 'Hayward', '1030 Python Automation', ' ReqRoute,Inc ', '\\nPython Automation ,Menlo Park, CA\\xa0Contract\\xa0Minimum qualifications5+ years of hands on experience with Python and/or similar programming languages.2+ Experience using design patterns and exposure to OOP practices.2+ hands on experience with git. Extend beyond ‘git push/ pull’. You should be comfortable handling merge conflicts.\\xa0Should feel at home on a Linux command line. Though you will not focus your efforts on scripting nothing of the following should make you uncomfortable: ‘vi’, ‘awk’, ‘sed’Experience using continuous integration tools (Jenkins).Should be able create, modify, execute, configure jobs from scratch using git as a sourceComfort working with Atlassian toolset (Jira, Confluence)Preferred qualificationsFINTECH and/or Trading domain business knowledge.Testing experience with High-frequency trading apps desiredSudhanshu KarmalkarTechnical RecruiterReqRoute, IncPhone: 415-691-4708Email:\\xa0sudhanshu@reqroute.com\\n')\n",
      "('Python Automation', 'Hayward', 'Python Automation Tester.', ' Resource Logistics, Inc. ', \"\\n Minimum requirements:Master's degree in Computer Science or related field with preferably 3-5 years of distributed software development or testing experience.GIT, Bitbucket, MongoDB, Shell Scripting.Strong Python programming skills with 1-3 Years of hands on experience in automating API (Rest API) & GUI (using Selenium – know shadow DOM)Submit Intermediate Python assessment of the candidate along with Resume.Familiarity with Windows Server OS/Linux/VMWare fundamentals.Strong skills in debugging and troubleshooting in Linux environments in physical server and virtual machines.Familiarity in Server networking and storage knowledge.Experience in setup and configuration of datacenter hardware such as Blade Server, Chassis, adaptors, Ethernet switch such as Cisco Nexus 9k, and FC switch. Knowledgeable in Troubleshooting issues in the environment. Testing experience in Server platforms, storage controllers considered a plus.Roles and responsibility:Contribute to dev-test activities of a Cloud based Management Software, including test scoping, planning, execution, test automation, coordinating with other departments. Identify defects in product, debug and work with developers towards resolution.Be part of agile scrum team, attend scrum meetings, provide updates. Prepare and present your work with all stakeholders as part of Sprint Demo.Influence the feature development and Improving product quality and customer experience.Automate test plans using python. Use existing Test framework. Use GIT on daily basis.Setup UCS infrastructure (FI, Server (Blade and Rack), Install operating system, Configure test environments as needed to validate feature.Desired SkillsUnderstanding of Microservice architecture, AWS experience. Hands on experience on network management software / UCS Cloud based application testing will be a plus.Desired Soft SkillsCreative problem-solving skills and excellent troubleshooting/debugging skills. Think automation first. Passion for coding and can-do attitude towards any complex tasks.Excellent team player with strong work ethics and culture.Excellent Analytical & communication skillsAble to multitask and handle competing priority tasks\\n\")\n"
     ],
     "output_type": "stream"
    }
   ],
   "source": [
    "from Data_Scraper import DataHandling\n",
    "\n",
    "\n",
    "Search_term = \"Python Automation\"\n",
    "Location = \"Hayward\"\n",
    "\n",
    "Data = DataHandling.Database(Search_term,Location)\n",
    "\n",
    "all_data = Data.read_all()\n",
    "\n",
    "for data in all_data[0:5]:\n",
    "    print(data)"
   ]
  },
  {
   "cell_type": "code",
   "execution_count": 65,
   "outputs": [
    {
     "name": "stdout",
     "text": [
      "('Python Automation', 'Hayward', 'Python Automation', ' Diverse Lynx ', \"\\nMinimum qualifications· 5+ years of hands on experience with Python and/or similar programming languages.· 2+ Experience using design patterns and exposure to OOP practices.· 2+ hands on experience with git. Extend beyond 'git push/ pull'. You should be comfortable handling merge conflicts. · You should feel at home on a Linux command line. Though you will not focus your efforts on scripting nothing of the following should make you uncomfortable: 'vi', 'awk', 'sed'· Experience using continuous integration tools (Jenkins). You should be able create, modify, execute, configure jobs from scratch using git as a source· Comfort working with Atlassian toolset (Jira, Confluence)Diverse Lynx LLC is an Equal Employment Opportunity employer. All qualified applicants will receive due consideration for employment without any discrimination. All applicants will be evaluated solely on the basis of their ability, competence and their proven capability to perform the functions outlined in the corresponding role. We promote and support a diverse workforce across all levels in the company.\\n\")\n"
     ],
     "output_type": "stream"
    }
   ],
   "source": [
    "master_data = []\n",
    "\n",
    "for data in all_data:\n",
    "    if data[3] == \"None\":\n",
    "        pass\n",
    "    else:\n",
    "        master_data.append(data)\n",
    "        \n",
    "print(master_data[6])\n"
   ],
   "metadata": {
    "collapsed": false,
    "pycharm": {
     "name": "#%%\n",
     "is_executing": false
    }
   }
  },
  {
   "cell_type": "code",
   "execution_count": 66,
   "outputs": [],
   "source": [
    "class Post:\n",
    "    \n",
    "    def __init__(self, data_array):\n",
    "        self.search_term = data_array[0]\n",
    "        self.location = data_array[1]\n",
    "        self.title = data_array[2]\n",
    "        self.company = data_array[3]\n",
    "        self.job_text = data_array[4]"
   ],
   "metadata": {
    "collapsed": false,
    "pycharm": {
     "name": "#%%\n",
     "is_executing": false
    }
   }
  },
  {
   "cell_type": "code",
   "execution_count": 67,
   "outputs": [],
   "source": [
    "for data in master_data:\n",
    "    info = Post(data)\n",
    "    \n",
    "\n"
   ],
   "metadata": {
    "collapsed": false,
    "pycharm": {
     "name": "#%%\n",
     "is_executing": false
    }
   }
  }
 ],
 "metadata": {
  "kernelspec": {
   "display_name": "Python 3",
   "language": "python",
   "name": "python3"
  },
  "language_info": {
   "codemirror_mode": {
    "name": "ipython",
    "version": 2
   },
   "file_extension": ".py",
   "mimetype": "text/x-python",
   "name": "python",
   "nbconvert_exporter": "python",
   "pygments_lexer": "ipython2",
   "version": "2.7.6"
  },
  "pycharm": {
   "stem_cell": {
    "cell_type": "raw",
    "source": [],
    "metadata": {
     "collapsed": false
    }
   }
  }
 },
 "nbformat": 4,
 "nbformat_minor": 0
}